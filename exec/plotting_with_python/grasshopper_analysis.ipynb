{
 "cells": [
  {
   "cell_type": "code",
   "execution_count": 1,
   "metadata": {},
   "outputs": [],
   "source": [
    "'''\n",
    "Author:  Areg Danagoulian\n",
    "date: 09.16.2024\n",
    "License: see README\n",
    "\n",
    "This is a basic notebook for reading in the output of grasshopper and plotting the output.\n",
    "The input is in .dat format.\n",
    "'''\n",
    "\n",
    "import csv\n",
    "import matplotlib.pyplot as plt\n",
    "import numpy as np\n",
    "from matplotlib.ticker import MaxNLocator\n",
    "#%matplotlib notebook"
   ]
  },
  {
   "cell_type": "code",
   "execution_count": 2,
   "metadata": {},
   "outputs": [],
   "source": [
    "#Here we read in the grasshopper output file, and fill a number of numpy arrays with the various columns\n",
    "file_path = 'test.dat'\n",
    "#E_beam=np.array([])\n",
    "E_beam=[]\n",
    "E=[]\n",
    "EventID=[]\n",
    "ParticleName=[]\n",
    "CreatorProcessName=[]\n",
    "Time=[]#in nanoseconds\n",
    "detector_number=[]\n",
    "\n",
    "\n",
    "# Open the file and specify the tab delimiter\n",
    "with open(file_path, 'r', newline='') as file:\n",
    "    # Create a CSV reader with tab delimiter\n",
    "    reader = csv.reader(file, delimiter='\\t')\n",
    "\n",
    "    # Skip the first line\n",
    "    next(reader, None)\n",
    "\n",
    "    # Iterate through the remaining lines\n",
    "    for row in reader:\n",
    "        # Access the columns as elements of the 'row' list\n",
    "        # For example, to access the first column:\n",
    "        # column1 = row[0]\n",
    "        # To access the second column:\n",
    "        # column2 = row[1]\n",
    "        # ...and so on\n",
    "\n",
    "        # You can process the data or print it as needed\n",
    "#        print(row)\n",
    "        #E_beam=np.append(E_beam,float(row[0])) #this is the original energy of the original particle in the event\n",
    "        E_beam.append(float(row[0]))\n",
    "        E.append(float(row[1])) #this is the energy of the particle when it hits your detector\n",
    "        EventID.append(float(row[2]))  #the number of the event\n",
    "        ParticleName.append(row[3]) #a string which says what particle this is, e-, gamma, etc...\n",
    "        CreatorProcessName.append(row[4]) #who created this particle...it may be a secondary\n",
    "        Time.append(float(row[5])) #time in nanoseconds from the initiation of the event\n",
    "        detector_number.append(float(row[6])) #which number detector detected this particle\n",
    "        \n",
    "E_beam = np.array(E_beam)\n",
    "E = np.array(E)\n",
    "EventID = np.array(EventID)\n",
    "ParticleName = np.array(ParticleName)\n",
    "CreatorProcessName = np.array(CreatorProcessName)\n",
    "Time = np.array(Time)\n",
    "detector_number = np.array(detector_number)"
   ]
  },
  {
   "cell_type": "code",
   "execution_count": 3,
   "metadata": {},
   "outputs": [
    {
     "data": {
      "image/png": "[encoded data removed]",
      "text/plain": [
       "<Figure size 432x288 with 1 Axes>"
      ]
     },
     "metadata": {
      "needs_background": "light"
     },
     "output_type": "display_data"
    }
   ],
   "source": [
    "#this is an example of one way for histograming a string array...it's a bit long an painful\n",
    "string_histogram = {}\n",
    "for string in ParticleName:\n",
    "    if string in string_histogram:\n",
    "        string_histogram[string] += 1\n",
    "    else:\n",
    "        string_histogram[string] = 1\n",
    "\n",
    "# Extract the unique strings and their frequencies\n",
    "unique_strings = list(string_histogram.keys())\n",
    "frequencies = list(string_histogram.values())\n",
    "\n",
    "# Create a bar chart (histogram)\n",
    "plt.bar(unique_strings, frequencies)\n",
    "plt.xticks(rotation=45)\n",
    "plt.grid('on')\n",
    "plt.yscale('log')\n",
    "plt.xlabel('ParticleName')\n",
    "plt.ylabel('Count')\n",
    "plt.title('ParticleNames')\n",
    "plt.show()"
   ]
  },
  {
   "cell_type": "code",
   "execution_count": 4,
   "metadata": {
    "scrolled": true
   },
   "outputs": [
    {
     "data": {
      "image/png": "[encoded data removed]",
      "text/plain": [
       "<Figure size 432x288 with 1 Axes>"
      ]
     },
     "metadata": {
      "needs_background": "light"
     },
     "output_type": "display_data"
    }
   ],
   "source": [
    "# a MUCH simpler way of histograming a string array \n",
    "plt.hist(ParticleName,bins=len(np.unique(ParticleName)))\n",
    "plt.xticks(rotation=45)\n",
    "plt.grid('on')\n",
    "plt.yscale('log')\n",
    "plt.show()"
   ]
  },
  {
   "cell_type": "code",
   "execution_count": 5,
   "metadata": {},
   "outputs": [
    {
     "data": {
      "text/plain": [
       "2"
      ]
     },
     "execution_count": 5,
     "metadata": {},
     "output_type": "execute_result"
    }
   ],
   "source": [
    "len(np.unique(ParticleName))"
   ]
  },
  {
   "cell_type": "code",
   "execution_count": 6,
   "metadata": {},
   "outputs": [
    {
     "name": "stdout",
     "output_type": "stream",
     "text": [
      "EventGenerator-e-: 329\t\t\tEventGenerator-gamma: 0\t\t\t\n",
      "eBrem-e-: 0\t\t\teBrem-gamma: 74\t\t\t\n",
      "eIoni-e-: 2\t\t\teIoni-gamma: 0\t\t\t\n",
      "phot-e-: 1\t\t\tphot-gamma: 0\t\t\t\n"
     ]
    }
   ],
   "source": [
    "# We want to know which particles were created by which processes\n",
    "\n",
    "# Start off by creating a dictionary to count occurrences of string pairs\n",
    "histogram = {}\n",
    "for x, y in zip(CreatorProcessName, ParticleName): #you can change this for other string arrays...\n",
    "    pair = f\"{x}-{y}\"\n",
    "    if pair in histogram:\n",
    "        histogram[pair] += 1\n",
    "    else:\n",
    "        histogram[pair] = 1\n",
    "\n",
    "# Print the 2D histogram-like representation\n",
    "for x in np.unique(CreatorProcessName):#[\"eIoni\", \"eBrem\", \"EventGenerator\"]: \n",
    "    for y in np.unique(ParticleName):#[\"e-\", \"gamma\"]:\n",
    "        pair = f\"{x}-{y}\"\n",
    "        count = histogram.get(pair, 0)\n",
    "        print(f\"{pair}: {count}\", end=\"\\t\\t\\t\")\n",
    "    print()\n"
   ]
  },
  {
   "cell_type": "code",
   "execution_count": 7,
   "metadata": {},
   "outputs": [
    {
     "data": {
      "image/png": "[encoded data removed]",
      "text/plain": [
       "<Figure size 432x288 with 1 Axes>"
      ]
     },
     "metadata": {
      "needs_background": "light"
     },
     "output_type": "display_data"
    }
   ],
   "source": [
    "#finally, let's look at energy distributions\n",
    "plt.hist(E[ParticleName=='e-'], bins=100,range=(0,2.2))  # Adjust the number of bins and range as needed.  Here we histogram the energy of ONLY electrons\n",
    "#plt.yscale('log')\n",
    "plt.xlabel('E [MeV]')\n",
    "plt.ylabel('Count')\n",
    "#plt.title('Number Histogram')\n",
    "plt.show()"
   ]
  },
  {
   "cell_type": "code",
   "execution_count": null,
   "metadata": {},
   "outputs": [],
   "source": []
  }
 ],
 "metadata": {
  "kernelspec": {
   "display_name": "Python 3",
   "language": "python",
   "name": "python3"
  },
  "language_info": {
   "codemirror_mode": {
    "name": "ipython",
    "version": 3
   },
   "file_extension": ".py",
   "mimetype": "text/x-python",
   "name": "python",
   "nbconvert_exporter": "python",
   "pygments_lexer": "ipython3",
   "version": "3.8.5"
  }
 },
 "nbformat": 4,
 "nbformat_minor": 4
}
